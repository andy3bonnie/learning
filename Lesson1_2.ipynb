{
  "nbformat": 4,
  "nbformat_minor": 0,
  "metadata": {
    "colab": {
      "name": "Lesson1_2.ipynb",
      "version": "0.3.2",
      "provenance": [],
      "collapsed_sections": []
    },
    "kernelspec": {
      "name": "python3",
      "display_name": "Python 3"
    },
    "accelerator": "GPU"
  },
  "cells": [
    {
      "metadata": {
        "id": "6t2MAyIBL1Bj",
        "colab_type": "code",
        "colab": {}
      },
      "cell_type": "code",
      "source": [
        "# １．実行環境準備\n",
        "\n",
        "# 必要なライブラリのインポート\n",
        "from keras import backend as K\n",
        "from keras.models import Sequential\n",
        "from keras.layers.convolutional import Conv2D\n",
        "from keras.layers.convolutional import MaxPooling2D\n",
        "from keras.layers.core import Activation\n",
        "from keras.layers.core import Flatten\n",
        "from keras.layers.core import Dense\n",
        "from keras.datasets import mnist\n",
        "from keras.utils import np_utils\n",
        "from keras.optimizers import Adam\n",
        "import tensorflow as tf\n",
        "import random as rn\n",
        "import numpy as np\n",
        "import os"
      ],
      "execution_count": 0,
      "outputs": []
    },
    {
      "metadata": {
        "id": "ukJvM5sJMJ49",
        "colab_type": "code",
        "colab": {}
      },
      "cell_type": "code",
      "source": [
        "# 実行の設定\n",
        "INPUT_SHAPE = (1, 28, 28)\n",
        "CLASSES_NUM = 10\n",
        "EPOCH_NUM = 3  # 50\n",
        "BATCH_SIZE = 128\n",
        "K.set_image_dim_ordering('th')\n",
        "SEED = 33\n",
        "\n",
        "os.environ['PYTHONHASHSEED'] = '0'\n",
        "np.random.seed(SEED)\n",
        "rn.seed(SEED)\n",
        "\n",
        "session_conf = tf.ConfigProto(\n",
        "    intra_op_parallelism_threads=1,\n",
        "    inter_op_parallelism_threads=1\n",
        ")\n",
        "\n",
        "tf.set_random_seed(SEED)\n",
        "sess = tf.Session(graph=tf.get_default_graph(), config=session_conf)\n",
        "K.set_session(sess)"
      ],
      "execution_count": 0,
      "outputs": []
    },
    {
      "metadata": {
        "id": "MOdDZnFMj7Yw",
        "colab_type": "code",
        "colab": {}
      },
      "cell_type": "code",
      "source": [
        "# ２．学習データ準備\n",
        "\n",
        "# データの読み込み\n",
        "(x_train, y_train), (x_test, y_test) = mnist.load_data()"
      ],
      "execution_count": 0,
      "outputs": []
    },
    {
      "metadata": {
        "id": "grRQIdvDMU8d",
        "colab_type": "code",
        "colab": {}
      },
      "cell_type": "code",
      "source": [
        "# データ量の確認\n",
        "(x_train.shape, x_test.shape)"
      ],
      "execution_count": 0,
      "outputs": []
    },
    {
      "metadata": {
        "id": "EjGmSJ-Z0prN",
        "colab_type": "code",
        "colab": {}
      },
      "cell_type": "code",
      "source": [
        "# データの中身の確認（イメージ）\n",
        "import matplotlib.pyplot as plt\n",
        "\n",
        "fig = plt.figure(figsize=(8, 8))\n",
        "fig.subplots_adjust(left=0, right=1, bottom=0, top=0.5, hspace=0.05, wspace=0.05)\n",
        "for i in range(100):\n",
        "    image = fig.add_subplot(10, 10, i + 1, xticks=[], yticks=[])\n",
        "    image.imshow(x_train[i].reshape((28, 28)), cmap='gray')"
      ],
      "execution_count": 0,
      "outputs": []
    },
    {
      "metadata": {
        "id": "5GwH9ZcTsvF8",
        "colab_type": "code",
        "colab": {}
      },
      "cell_type": "code",
      "source": [
        "# データの中身の確認（イメージに対する正解値）\n",
        "for i in range(10):\n",
        "    print(y_train[i*10:i*10+10])"
      ],
      "execution_count": 0,
      "outputs": []
    },
    {
      "metadata": {
        "colab_type": "code",
        "id": "VyVkVUFOmNQW",
        "colab": {}
      },
      "cell_type": "code",
      "source": [
        "# 一つだけ取り出して確認（格納バイナリ値）\n",
        "import pandas as pd\n",
        "num_image=x_train[0].reshape(28,28)\n",
        "pd.options.display.max_columns=28\n",
        "num_binary=pd.DataFrame(num_image)\n",
        "num_binary"
      ],
      "execution_count": 0,
      "outputs": []
    },
    {
      "metadata": {
        "id": "WtX0-G8f1YMD",
        "colab_type": "code",
        "colab": {}
      },
      "cell_type": "code",
      "source": [
        "# 一つだけ取り出して確認（イメージ）\n",
        "plt.imshow(x_train[0].reshape(28, 28))"
      ],
      "execution_count": 0,
      "outputs": []
    },
    {
      "metadata": {
        "id": "cuCpe3qN1naR",
        "colab_type": "code",
        "colab": {}
      },
      "cell_type": "code",
      "source": [
        "# 正解データの確認（正解値）\n",
        "print(y_train[0])"
      ],
      "execution_count": 0,
      "outputs": []
    },
    {
      "metadata": {
        "id": "7UfyxZ8ifhik",
        "colab_type": "code",
        "colab": {}
      },
      "cell_type": "code",
      "source": [
        "# データの正規化\n",
        "x_train = x_train[:, np.newaxis, :, :]\n",
        "x_test = x_test[:, np.newaxis, :, :]\n",
        "\n",
        "_y_train = y_train\n",
        "_y_test = y_test\n",
        "\n",
        "\n",
        "y_train = np_utils.to_categorical(\n",
        "    y=y_train, num_classes=CLASSES_NUM)\n",
        "y_test = np_utils.to_categorical(\n",
        "    y=y_test, num_classes=CLASSES_NUM)\n",
        "\n",
        "x_train = x_train.astype('float32')\n",
        "x_test = x_test.astype('float32')\n",
        "x_train /= 255\n",
        "x_test /= 255"
      ],
      "execution_count": 0,
      "outputs": []
    },
    {
      "metadata": {
        "colab_type": "code",
        "id": "GsJcaYc-lfrx",
        "colab": {}
      },
      "cell_type": "code",
      "source": [
        "# ３．ディープランニング実行\n",
        "\n",
        "# 【①CNNモデル構築】\n",
        "model = Sequential()\n",
        "\n",
        "model.add(Conv2D(filters=20, kernel_size=5, padding='same',\n",
        "           input_shape=INPUT_SHAPE))\n",
        "model.add(Activation('relu'))\n",
        "model.add(MaxPooling2D(pool_size=(2, 2), strides=(2, 2)))\n",
        "\n",
        "model.add(Conv2D(filters=50, kernel_size=5, padding='same'))\n",
        "model.add(Activation('relu'))\n",
        "model.add(MaxPooling2D(pool_size=(2, 2), strides=(2, 2)))\n",
        "\n",
        "model.add(Flatten())\n",
        "model.add(Dense(500))\n",
        "model.add(Activation('relu'))\n",
        "\n",
        "model.add(Dense(units=CLASSES_NUM))\n",
        "model.add(Activation('softmax'))"
      ],
      "execution_count": 0,
      "outputs": []
    },
    {
      "metadata": {
        "id": "SXz4Doy9Mh93",
        "colab_type": "code",
        "colab": {}
      },
      "cell_type": "code",
      "source": [
        "# 【②学習】\n",
        "model.compile(\n",
        "    loss='categorical_crossentropy', optimizer=Adam(), metrics=['accuracy'])\n",
        "history = model.fit(\n",
        "    x=x_train, y=y_train, batch_size=BATCH_SIZE,\n",
        "    epochs=EPOCH_NUM, verbose=2, validation_split=0.2)\n"
      ],
      "execution_count": 0,
      "outputs": []
    },
    {
      "metadata": {
        "id": "VNy7tCL9Mhr9",
        "colab_type": "code",
        "colab": {}
      },
      "cell_type": "code",
      "source": [
        "# 予測用のデータの確認\n",
        "#plt.imshow(x_test[0].reshape(28, 28))\n",
        "\n",
        "s = 1210\n",
        "e = s + 30\n",
        "\n",
        "fig = plt.figure(figsize=(8, 8))\n",
        "fig.subplots_adjust(left=0, right=1, bottom=0, top=0.5, hspace=0.05, wspace=0.05)\n",
        "c = 0\n",
        "for i in range(s, e):\n",
        "    image = fig.add_subplot(10, 10, c + 1, xticks=[], yticks=[])\n",
        "    image.imshow(x_test[i].reshape((28, 28)), cmap='gray')\n",
        "    c = c + 1"
      ],
      "execution_count": 0,
      "outputs": []
    },
    {
      "metadata": {
        "id": "-x0FeEe-8xjh",
        "colab_type": "code",
        "colab": {}
      },
      "cell_type": "code",
      "source": [
        "# 【③予測】\n",
        "predict_classes = model.predict_classes(x_test[s:e,])\n",
        "\n",
        "predict_classes.reshape(3, 10)"
      ],
      "execution_count": 0,
      "outputs": []
    },
    {
      "metadata": {
        "id": "OC6Jptfl_VaR",
        "colab_type": "code",
        "colab": {}
      },
      "cell_type": "code",
      "source": [
        "# ４．予測結果の検証\n",
        "true_classes = np.argmax(y_test[s:e],1)\n",
        "true_classes.reshape(3, 10)"
      ],
      "execution_count": 0,
      "outputs": []
    },
    {
      "metadata": {
        "id": "LBS_9Ba1ASDM",
        "colab_type": "code",
        "colab": {}
      },
      "cell_type": "code",
      "source": [
        "# Confusion matrix(混同行列)の確認 \n",
        "from sklearn.metrics import confusion_matrix\n",
        "print(confusion_matrix(true_classes, predict_classes))"
      ],
      "execution_count": 0,
      "outputs": []
    },
    {
      "metadata": {
        "id": "t9dqiYMhMh5o",
        "colab_type": "code",
        "colab": {}
      },
      "cell_type": "code",
      "source": [
        "# 精度の確認\n",
        "model.evaluate(x_test, y_test)"
      ],
      "execution_count": 0,
      "outputs": []
    },
    {
      "metadata": {
        "id": "iFR10Yzcz8_3",
        "colab_type": "code",
        "colab": {}
      },
      "cell_type": "code",
      "source": [
        "####################################################\n",
        "# 上級者用 (追加部分)                              #\n",
        "####################################################"
      ],
      "execution_count": 0,
      "outputs": []
    },
    {
      "metadata": {
        "id": "LKEQz6V6z-aJ",
        "colab_type": "code",
        "colab": {}
      },
      "cell_type": "code",
      "source": [
        "from PIL import Image\n",
        "from google.colab import files\n",
        "\n",
        "files.upload()\n",
        "img=Image.open(\"infile.png\").convert('L')\n",
        "indata = img_array=np.array(img.resize((28, 28)))"
      ],
      "execution_count": 0,
      "outputs": []
    },
    {
      "metadata": {
        "id": "6U6_K9zu_Vkb",
        "colab_type": "code",
        "colab": {}
      },
      "cell_type": "code",
      "source": [
        "# データの中身の確認\n",
        "plt.imshow(indata)"
      ],
      "execution_count": 0,
      "outputs": []
    },
    {
      "metadata": {
        "id": "1aBmaPK60WpK",
        "colab_type": "code",
        "colab": {}
      },
      "cell_type": "code",
      "source": [
        "# データの正規化\n",
        "indata = img_array[ np.newaxis, np.newaxis, :, :]\n",
        "indata = indata.astype('float32')\n",
        "indata /= 255"
      ],
      "execution_count": 0,
      "outputs": []
    },
    {
      "metadata": {
        "id": "K2buuy9w0iAY",
        "colab_type": "code",
        "colab": {}
      },
      "cell_type": "code",
      "source": [
        "# 【③予測】\n",
        "predict_classes = model.predict_classes(indata)\n",
        "\n",
        "print(predict_classes)"
      ],
      "execution_count": 0,
      "outputs": []
    }
  ]
}